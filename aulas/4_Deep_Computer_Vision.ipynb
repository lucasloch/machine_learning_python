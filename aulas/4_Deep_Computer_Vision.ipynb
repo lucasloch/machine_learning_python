{
  "nbformat": 4,
  "nbformat_minor": 0,
  "metadata": {
    "colab": {
      "provenance": [],
      "authorship_tag": "ABX9TyNK1pJFHoblk2AYLDwhiaKd",
      "include_colab_link": true
    },
    "kernelspec": {
      "name": "python3",
      "display_name": "Python 3"
    },
    "language_info": {
      "name": "python"
    }
  },
  "cells": [
    {
      "cell_type": "markdown",
      "metadata": {
        "id": "view-in-github",
        "colab_type": "text"
      },
      "source": [
        "<a href=\"https://colab.research.google.com/github/lucasloch/machine_learning_python/blob/main/aulas/4_Deep_Computer_Vision.ipynb\" target=\"_parent\"><img src=\"https://colab.research.google.com/assets/colab-badge.svg\" alt=\"Open In Colab\"/></a>"
      ]
    },
    {
      "cell_type": "markdown",
      "source": [
        "# Deep Computer Vision"
      ],
      "metadata": {
        "id": "L8Jnd5ME1_I0"
      }
    },
    {
      "cell_type": "markdown",
      "source": [
        "Neste guia, aprenderemos como realizar a classificação de imagens e detecção/reconhecimento de objetos usando **visão computacional** profunda com algo chamado **rede neural convolucional**.\n",
        "\n",
        "O objetivo de nossas redes neurais convolucionais será classificar e detectar imagens ou objetos específicos de dentro da imagem. Usaremos dados de imagem como nossos recursos e um rótulo para essas imagens como nosso rótulo ou saída."
      ],
      "metadata": {
        "id": "iiQGwXxt2Jnz"
      }
    },
    {
      "cell_type": "markdown",
      "source": [
        "## Image Data\n",
        "\n",
        "Imagens são compostas por três dimensões:\n",
        "\n",
        "* Altura\n",
        "* Largura\n",
        "* Canais de cores\n",
        "\n",
        "O número de canais de cores representa a profundidade de uma imagem e corelaciona à cor usada nela. Por exemplo, uma imagem com três canais pode ser feita de pixels RGB. Para cada pixel há um valor numérico de 0-255 que define a cor. Imagens com uma cor de profundidade são imagens com tons cinzas."
      ],
      "metadata": {
        "id": "kZ023DY62k8n"
      }
    },
    {
      "cell_type": "markdown",
      "source": [
        "## Convolutional Neural Networks\n",
        "\n",
        "Cada rede neural convolucional é composta por uma ou várias camadas convolucionais. Essas camadas são diferentes das camadas densas que vimos anteriormente. Seu objetivo é encontrar padrões dentro das imagens que possam ser usados ​​para classificar a imagem ou partes dela. Mas isso pode parecer familiar ao que nossa rede neural densamente conectada na seção anterior estava fazendo, bem, é porque é.\n",
        "\n",
        "A diferença fundamental entre uma camada densa e uma camada convolucional é que as camadas densas detectam padrões globalmente, enquanto as camadas convolucionais detectam padrões localmente. Quando temos uma camada densamente conectada, cada nó dessa camada vê todos os dados da camada anterior. Isso significa que essa camada está analisando todas as informações e só é capaz de analisar os dados em uma capacidade global. Nossa camada convolucional, no entanto, não será densamente conectada, isso significa que ela pode detectar padrões locais usando parte dos dados de entrada para essa camada.\n",
        "\n",
        "**Camada Densa**: Uma camada densa considerará a imagem INTEIRA. Ele examinará todos os pixels e usará essas informações para gerar alguma saída.\n",
        "\n",
        "**Camada convolucional**: A camada convolucional examinará partes específicas da imagem."
      ],
      "metadata": {
        "id": "KgS-D3MZ3jK8"
      }
    },
    {
      "cell_type": "code",
      "execution_count": null,
      "metadata": {
        "id": "HI0HBzWX1-KG"
      },
      "outputs": [],
      "source": []
    }
  ]
}