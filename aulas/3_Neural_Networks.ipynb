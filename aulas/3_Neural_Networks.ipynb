{
  "nbformat": 4,
  "nbformat_minor": 0,
  "metadata": {
    "colab": {
      "provenance": [],
      "collapsed_sections": [],
      "authorship_tag": "ABX9TyMVSLIqC3VhsPI6C4S7UaEA",
      "include_colab_link": true
    },
    "kernelspec": {
      "name": "python3",
      "display_name": "Python 3"
    },
    "language_info": {
      "name": "python"
    }
  },
  "cells": [
    {
      "cell_type": "markdown",
      "metadata": {
        "id": "view-in-github",
        "colab_type": "text"
      },
      "source": [
        "<a href=\"https://colab.research.google.com/github/lucasloch/machine_learning_python/blob/main/aulas/3_Neural_Networks.ipynb\" target=\"_parent\"><img src=\"https://colab.research.google.com/assets/colab-badge.svg\" alt=\"Open In Colab\"/></a>"
      ]
    },
    {
      "cell_type": "markdown",
      "source": [
        "# Neural Networks"
      ],
      "metadata": {
        "id": "FtPFNuQXdFbr"
      }
    },
    {
      "cell_type": "markdown",
      "source": [
        "Uma rede neural desnamente conectada é uma na qual todos o neurônicos da camada atual estão conectados a todos os neurônios da camada anterior."
      ],
      "metadata": {
        "id": "62H3geBHeaq-"
      }
    },
    {
      "cell_type": "markdown",
      "source": [
        "A função de ativação Tanh (Tangente Hiperbólica) garante valores entre -1 e 1"
      ],
      "metadata": {
        "id": "yu3E7tP-f4VV"
      }
    },
    {
      "cell_type": "markdown",
      "source": [
        "## Optimizer\n",
        "\n",
        "Esta função é a responsável por implementar o algoritmo de retropropagação. Alguns mais comuns são:\n",
        "\n",
        "*   Gradient Descent\n",
        "*   Stochastic Gradient Descent\n",
        "*   Mini-Batch Gradient Descent\n",
        "*   Momentum\n",
        "*   Nesterov Accelerated Gradient\n",
        "\n",
        "Link: https://firiuza.medium.com/optimizers-for-training-neural-networks-e0196662e21e\n",
        "\n"
      ],
      "metadata": {
        "id": "6X2PYD_ghKvK"
      }
    },
    {
      "cell_type": "markdown",
      "source": [
        "# Creating Neural Network"
      ],
      "metadata": {
        "id": "GEltovwuiHsq"
      }
    },
    {
      "cell_type": "markdown",
      "source": [
        "## Imports"
      ],
      "metadata": {
        "id": "ogr3s06NiMpU"
      }
    },
    {
      "cell_type": "code",
      "execution_count": 1,
      "metadata": {
        "id": "wLAoKvSiQj4f",
        "colab": {
          "base_uri": "https://localhost:8080/"
        },
        "outputId": "dc4d08d3-283a-43af-a2b2-568304f44218"
      },
      "outputs": [
        {
          "output_type": "stream",
          "name": "stdout",
          "text": [
            "Colab only includes TensorFlow 2.x; %tensorflow_version has no effect.\n"
          ]
        }
      ],
      "source": [
        "%tensorflow_version 2.x\n",
        "import tensorflow as tf\n",
        "from tensorflow import keras\n",
        "import numpy as np\n",
        "import matplotlib.pyplot as plt"
      ]
    },
    {
      "cell_type": "markdown",
      "source": [
        "## Dataset"
      ],
      "metadata": {
        "id": "nvk54YHJifj6"
      }
    },
    {
      "cell_type": "markdown",
      "source": [
        "Será usado um dataset da MNIST Fashion Dataset, que contém 60.000 imagens para treinamento e 10.000 para teste/validação."
      ],
      "metadata": {
        "id": "njZVtyKsip7y"
      }
    },
    {
      "cell_type": "code",
      "source": [
        "fashion_mnist = keras.datasets.fashion_mnist\n",
        "# Vamos dividir em trinamento e teste\n",
        "(train_images, train_labels), (test_images, test_labels) = fashion_mnist.load_data()"
      ],
      "metadata": {
        "colab": {
          "base_uri": "https://localhost:8080/"
        },
        "id": "ibGe25idi6bV",
        "outputId": "496a9104-b71d-41b6-a212-5e0a4704ec21"
      },
      "execution_count": 2,
      "outputs": [
        {
          "output_type": "stream",
          "name": "stdout",
          "text": [
            "Downloading data from https://storage.googleapis.com/tensorflow/tf-keras-datasets/train-labels-idx1-ubyte.gz\n",
            "32768/29515 [=================================] - 0s 0us/step\n",
            "40960/29515 [=========================================] - 0s 0us/step\n",
            "Downloading data from https://storage.googleapis.com/tensorflow/tf-keras-datasets/train-images-idx3-ubyte.gz\n",
            "26427392/26421880 [==============================] - 0s 0us/step\n",
            "26435584/26421880 [==============================] - 0s 0us/step\n",
            "Downloading data from https://storage.googleapis.com/tensorflow/tf-keras-datasets/t10k-labels-idx1-ubyte.gz\n",
            "16384/5148 [===============================================================================================] - 0s 0us/step\n",
            "Downloading data from https://storage.googleapis.com/tensorflow/tf-keras-datasets/t10k-images-idx3-ubyte.gz\n",
            "4423680/4422102 [==============================] - 0s 0us/step\n",
            "4431872/4422102 [==============================] - 0s 0us/step\n"
          ]
        }
      ]
    },
    {
      "cell_type": "code",
      "source": [
        "train_images.shape"
      ],
      "metadata": {
        "colab": {
          "base_uri": "https://localhost:8080/"
        },
        "id": "5xaNVFkVjPN3",
        "outputId": "619af1f8-84fc-4f7b-94de-ae13e5e3b965"
      },
      "execution_count": 3,
      "outputs": [
        {
          "output_type": "execute_result",
          "data": {
            "text/plain": [
              "(60000, 28, 28)"
            ]
          },
          "metadata": {},
          "execution_count": 3
        }
      ]
    },
    {
      "cell_type": "markdown",
      "source": [
        "Temos ao todo 60.000 imagens com 28x28 pixels."
      ],
      "metadata": {
        "id": "W5OBYGFajZ5W"
      }
    },
    {
      "cell_type": "code",
      "source": [
        "train_images[0, 23, 23]"
      ],
      "metadata": {
        "colab": {
          "base_uri": "https://localhost:8080/"
        },
        "id": "dkwLiAYsiep4",
        "outputId": "9096e4ff-33ef-4ae4-e25d-fe43e876af90"
      },
      "execution_count": 4,
      "outputs": [
        {
          "output_type": "execute_result",
          "data": {
            "text/plain": [
              "194"
            ]
          },
          "metadata": {},
          "execution_count": 4
        }
      ]
    },
    {
      "cell_type": "markdown",
      "source": [
        "Os pixels estão entre 0 e 255, de preto a branco."
      ],
      "metadata": {
        "id": "gFfjPJ5Xj3kM"
      }
    },
    {
      "cell_type": "code",
      "source": [
        "train_labels[:10]"
      ],
      "metadata": {
        "colab": {
          "base_uri": "https://localhost:8080/"
        },
        "id": "1nyyIXQUkF02",
        "outputId": "a9748c93-a329-46e0-c3b2-18e854bd8276"
      },
      "execution_count": 5,
      "outputs": [
        {
          "output_type": "execute_result",
          "data": {
            "text/plain": [
              "array([9, 0, 0, 3, 0, 2, 7, 2, 5, 5], dtype=uint8)"
            ]
          },
          "metadata": {},
          "execution_count": 5
        }
      ]
    },
    {
      "cell_type": "markdown",
      "source": [
        "Os rótulos são inteiros de 0-9. Cada inteiro representa um artigo de ruoupa específico. Criaremos uma lista para armazenar os nomes dos rótulos."
      ],
      "metadata": {
        "id": "mTxpY2OCkJ50"
      }
    },
    {
      "cell_type": "code",
      "source": [
        "class_names = ['T-shirt/top', 'Trouser', 'Pullover', 'Dress', 'Coat', 'Sandal', 'Shirt', 'Sneaker', 'Bag', 'Ankle boot']"
      ],
      "metadata": {
        "id": "A6owSZvWkapG"
      },
      "execution_count": 6,
      "outputs": []
    },
    {
      "cell_type": "markdown",
      "source": [
        "Por fim iremos visualizar uma dessas imagens."
      ],
      "metadata": {
        "id": "Iu32S0gPk0Dv"
      }
    },
    {
      "cell_type": "code",
      "source": [
        "plt.figure()\n",
        "plt.imshow(train_images[1])\n",
        "plt.colorbar()\n",
        "plt.grid(False)\n",
        "plt.show()"
      ],
      "metadata": {
        "colab": {
          "base_uri": "https://localhost:8080/",
          "height": 265
        },
        "id": "-M65vaZukpyL",
        "outputId": "4a4daf93-7732-4729-eb22-b5f34ca5f110"
      },
      "execution_count": 7,
      "outputs": [
        {
          "output_type": "display_data",
          "data": {
            "text/plain": [
              "<Figure size 432x288 with 2 Axes>"
            ],
            "image/png": "[encoded data removed]"
          },
          "metadata": {
            "needs_background": "light"
          }
        }
      ]
    },
    {
      "cell_type": "markdown",
      "source": [
        "## Data Processing"
      ],
      "metadata": {
        "id": "8myLYPFck5Jx"
      }
    },
    {
      "cell_type": "markdown",
      "source": [
        "Antes de criar o modelo é necessário realizar o pré-processamento dos dados. Neste caso estaremos por comprimir a escala de todos os valores dos pixels para entre 0 e 1."
      ],
      "metadata": {
        "id": "1PMjKsR0k9VS"
      }
    },
    {
      "cell_type": "code",
      "source": [
        "train_images = train_images / 255\n",
        "\n",
        "test_images = test_images / 255"
      ],
      "metadata": {
        "id": "EWBwFkf1k88t"
      },
      "execution_count": 8,
      "outputs": []
    },
    {
      "cell_type": "markdown",
      "source": [
        "## Building the Model"
      ],
      "metadata": {
        "id": "AcbOHlUhluN8"
      }
    },
    {
      "cell_type": "markdown",
      "source": [
        "Para este modelo usaremos um modelo keras sequencial com três diferentes camadas. Este modelo representa uma rede neural feed-forward (passa valores da esquerda para direita)."
      ],
      "metadata": {
        "id": "dvDLsfw2lyNE"
      }
    },
    {
      "cell_type": "code",
      "source": [
        "model = keras.Sequential([\n",
        "    keras.layers.Flatten(input_shape=(28, 28)),   # (1) Camada de Entrada\n",
        "    keras.layers.Dense(128, activation='relu'),   # (2) Camada Oculta\n",
        "    keras.layers.Dense(10, activation='softmax')  # (3) Camada de Saída\n",
        "])"
      ],
      "metadata": {
        "id": "1Iodq50MlxMu"
      },
      "execution_count": 9,
      "outputs": []
    },
    {
      "cell_type": "markdown",
      "source": [
        "**Camada 1:** Esta é a camada de entrada, e irá basicamente receber os dados como uma matriz 28x28 e achatar todos pixels em 784 pixels.\n",
        "\n",
        "**Camada 2:** Esta a camada oculta do modelo, com um total de 128 neurônios e com a função de ativação \"relu\".\n",
        "\n",
        "**Camada 3:** Por fim temos aa camada de saída, com 10 neurônios e função de ativação \"softmax\"."
      ],
      "metadata": {
        "id": "Z1gyoqOsmGii"
      }
    },
    {
      "cell_type": "markdown",
      "source": [
        "## Compile the Model"
      ],
      "metadata": {
        "id": "LmW05UkiopWo"
      }
    },
    {
      "cell_type": "markdown",
      "source": [
        "O último passo é definir a função de perda, o otimizador e as métricas a ser análisadas."
      ],
      "metadata": {
        "id": "uVEjDVVdo6h9"
      }
    },
    {
      "cell_type": "code",
      "source": [
        "model.compile(optimizer='adam',\n",
        "              loss='sparse_categorical_crossentropy',\n",
        "              metrics=['accuracy'])"
      ],
      "metadata": {
        "id": "T1j_nE-Colx7"
      },
      "execution_count": 10,
      "outputs": []
    },
    {
      "cell_type": "markdown",
      "source": [
        "## Training the Model"
      ],
      "metadata": {
        "id": "IDSBcRANpKNB"
      }
    },
    {
      "cell_type": "code",
      "source": [
        "model.fit(train_images, train_labels, epochs=1)"
      ],
      "metadata": {
        "colab": {
          "base_uri": "https://localhost:8080/"
        },
        "id": "vYPRATdSpNaN",
        "outputId": "958aea1e-7b2b-4bc7-9543-2b95a3ed372b"
      },
      "execution_count": 15,
      "outputs": [
        {
          "output_type": "stream",
          "name": "stdout",
          "text": [
            "1875/1875 [==============================] - 6s 3ms/step - loss: 0.1810 - accuracy: 0.9311\n"
          ]
        },
        {
          "output_type": "execute_result",
          "data": {
            "text/plain": [
              "<keras.callbacks.History at 0x7fd3295d57d0>"
            ]
          },
          "metadata": {},
          "execution_count": 15
        }
      ]
    },
    {
      "cell_type": "markdown",
      "source": [
        "## Evaluating the Model"
      ],
      "metadata": {
        "id": "kZ_okBKppiM1"
      }
    },
    {
      "cell_type": "code",
      "source": [
        "test_loss, test_acc = model.evaluate(test_images, test_labels, verbose=1)\n",
        "\n",
        "print('Precisão do teste: ', test_acc)"
      ],
      "metadata": {
        "colab": {
          "base_uri": "https://localhost:8080/"
        },
        "id": "UaxYl53KpkQC",
        "outputId": "6d6088f9-4142-483d-fe8c-356651253da7"
      },
      "execution_count": 16,
      "outputs": [
        {
          "output_type": "stream",
          "name": "stdout",
          "text": [
            "313/313 [==============================] - 1s 2ms/step - loss: 0.3559 - accuracy: 0.8880\n",
            "Precisão do teste:  0.8880000114440918\n"
          ]
        }
      ]
    },
    {
      "cell_type": "markdown",
      "source": [
        "## Making Predictions"
      ],
      "metadata": {
        "id": "Eo3Qt7uLqyfM"
      }
    },
    {
      "cell_type": "code",
      "source": [
        "predictions = model.predict(test_images)"
      ],
      "metadata": {
        "id": "j9tOwyOWq0UX"
      },
      "execution_count": 17,
      "outputs": []
    },
    {
      "cell_type": "code",
      "source": [
        "predictions[0]"
      ],
      "metadata": {
        "colab": {
          "base_uri": "https://localhost:8080/"
        },
        "id": "iDp2jrrkq5-n",
        "outputId": "85e7e982-050a-4437-eb81-49609a018f1e"
      },
      "execution_count": 18,
      "outputs": [
        {
          "output_type": "execute_result",
          "data": {
            "text/plain": [
              "array([6.3980079e-15, 7.7733901e-18, 9.0128209e-14, 1.8570322e-11,\n",
              "       4.6818804e-16, 1.9965906e-05, 9.3534291e-16, 1.7340512e-03,\n",
              "       3.1538189e-11, 9.9824595e-01], dtype=float32)"
            ]
          },
          "metadata": {},
          "execution_count": 18
        }
      ]
    },
    {
      "cell_type": "code",
      "source": [
        "np.argmax(predictions[0])"
      ],
      "metadata": {
        "colab": {
          "base_uri": "https://localhost:8080/"
        },
        "id": "rJSjosLvq-GS",
        "outputId": "1d0b962f-b602-4ff6-a76e-4019e270e027"
      },
      "execution_count": 19,
      "outputs": [
        {
          "output_type": "execute_result",
          "data": {
            "text/plain": [
              "9"
            ]
          },
          "metadata": {},
          "execution_count": 19
        }
      ]
    },
    {
      "cell_type": "code",
      "source": [
        "class_names[np.argmax(predictions[0])]"
      ],
      "metadata": {
        "colab": {
          "base_uri": "https://localhost:8080/",
          "height": 35
        },
        "id": "Jl1xKz9ArKZS",
        "outputId": "aafe2f06-74a1-4446-c65e-5c5cd2bbb1d8"
      },
      "execution_count": 20,
      "outputs": [
        {
          "output_type": "execute_result",
          "data": {
            "text/plain": [
              "'Ankle boot'"
            ],
            "application/vnd.google.colaboratory.intrinsic+json": {
              "type": "string"
            }
          },
          "metadata": {},
          "execution_count": 20
        }
      ]
    },
    {
      "cell_type": "code",
      "source": [
        "print(class_names[np.argmax(predictions[0])])\n",
        "plt.figure()\n",
        "plt.imshow(test_images[0])\n",
        "plt.colorbar()\n",
        "plt.grid(False)\n",
        "plt.show()"
      ],
      "metadata": {
        "colab": {
          "base_uri": "https://localhost:8080/",
          "height": 286
        },
        "id": "G04qN5SSrZzt",
        "outputId": "7d14b069-7597-4da4-f3ae-faa2173a20f3"
      },
      "execution_count": 23,
      "outputs": [
        {
          "output_type": "stream",
          "name": "stdout",
          "text": [
            "Ankle boot\n"
          ]
        },
        {
          "output_type": "display_data",
          "data": {
            "text/plain": [
              "<Figure size 432x288 with 2 Axes>"
            ],
            "image/png": "[encoded data removed]"
          },
          "metadata": {
            "needs_background": "light"
          }
        }
      ]
    },
    {
      "cell_type": "markdown",
      "source": [
        "## Verify Predictions"
      ],
      "metadata": {
        "id": "3SGYpj07sDXu"
      }
    },
    {
      "cell_type": "code",
      "metadata": {
        "id": "-HJV4JF789aC",
        "colab": {
          "base_uri": "https://localhost:8080/",
          "height": 312
        },
        "outputId": "e7be241d-42b8-464c-aea5-96010be7dbfa"
      },
      "source": [
        "COLOR = 'white'\n",
        "plt.rcParams['text.color'] = COLOR\n",
        "plt.rcParams['axes.labelcolor'] = COLOR\n",
        "\n",
        "def predict(model, image, correct_label):\n",
        "  class_names = ['T-shirt/top', 'Trouser', 'Pullover', 'Dress', 'Coat',\n",
        "               'Sandal', 'Shirt', 'Sneaker', 'Bag', 'Ankle boot']\n",
        "  prediction = model.predict(np.array([image]))\n",
        "  predicted_class = class_names[np.argmax(prediction)]\n",
        "\n",
        "  show_image(image, class_names[correct_label], predicted_class)\n",
        "\n",
        "\n",
        "def show_image(img, label, guess):\n",
        "  plt.figure()\n",
        "  plt.imshow(img, cmap=plt.cm.binary)\n",
        "  plt.title(\"Excpected: \" + label)\n",
        "  plt.xlabel(\"Guess: \" + guess)\n",
        "  plt.colorbar()\n",
        "  plt.grid(False)\n",
        "  plt.show()\n",
        "\n",
        "\n",
        "def get_number():\n",
        "  while True:\n",
        "    num = input(\"Pick a number: \")\n",
        "    if num.isdigit():\n",
        "      num = int(num)\n",
        "      if 0 <= num <= 1000:\n",
        "        return int(num)\n",
        "    else:\n",
        "      print(\"Try again...\")\n",
        "\n",
        "num = get_number()\n",
        "image = test_images[num]\n",
        "label = test_labels[num]\n",
        "predict(model, image, label)"
      ],
      "execution_count": 25,
      "outputs": [
        {
          "name": "stdout",
          "output_type": "stream",
          "text": [
            "Pick a number: 42\n"
          ]
        },
        {
          "output_type": "display_data",
          "data": {
            "text/plain": [
              "<Figure size 432x288 with 2 Axes>"
            ],
            "image/png": "[encoded data removed]"
          },
          "metadata": {
            "needs_background": "light"
          }
        }
      ]
    }
  ]
}